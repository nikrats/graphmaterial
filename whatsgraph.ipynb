{
 "cells": [
  {
   "cell_type": "markdown",
   "id": "76654f5a",
   "metadata": {},
   "source": [
    "# Graph Theory Basics for Secondary School Students\n",
    "\n",
    "## Introduction to Graph Theory\n",
    "\n",
    "Graph theory is a branch of mathematics that deals with the study of graphs, which are structures used to model pairwise relationships between objects. A graph is made up of vertices (also called nodes) and edges (lines connecting the nodes).\n",
    "\n",
    "### Basic Terminology\n",
    "\n",
    "- **Vertex (plural: Vertices)**: A fundamental unit of which graphs are formed; also known as a node.\n",
    "- **Edge**: A connection between two vertices.\n",
    "- **Directed Graph**: A graph where edges have a direction, meaning they go from one vertex to another.\n",
    "- **Undirected Graph**: A graph where edges have no direction, meaning they simply connect two vertices.\n",
    "\n",
    "## Representing Graphs in Python\n",
    "\n",
    "We can represent graphs using simple Python data structures like dictionaries and lists.\n",
    "\n",
    "### Undirected Graph\n",
    "\n",
    "An undirected graph can be represented using a dictionary where the keys are the vertices and the values are lists of adjacent vertices.\n"
   ]
  },
  {
   "cell_type": "code",
   "execution_count": 2,
   "id": "38465db1",
   "metadata": {},
   "outputs": [],
   "source": [
    "undirected_graph = {\n",
    "    'A': ['B', 'C'],\n",
    "    'B': ['A', 'D', 'E'],\n",
    "    'C': ['A', 'F'],\n",
    "    'D': ['B'],\n",
    "    'E': ['B', 'F'],\n",
    "    'F': ['C', 'E']\n",
    "}"
   ]
  },
  {
   "cell_type": "code",
   "execution_count": 3,
   "id": "79772b43",
   "metadata": {},
   "outputs": [
    {
     "name": "stdout",
     "output_type": "stream",
     "text": [
      "Undirected Graph:\n",
      "A: ['B', 'C']\n",
      "B: ['A', 'D', 'E']\n",
      "C: ['A', 'F']\n",
      "D: ['B']\n",
      "E: ['B', 'F']\n",
      "F: ['C', 'E']\n"
     ]
    }
   ],
   "source": [
    "print(\"Undirected Graph:\")\n",
    "for vertex, edges in undirected_graph.items():\n",
    "    print(f\"{vertex}: {edges}\")"
   ]
  },
  {
   "cell_type": "markdown",
   "id": "32bca3cf",
   "metadata": {},
   "source": [
    "# Graph Theory: Dijkstra's Algorithm\n",
    "\n",
    "## Introduction\n",
    "Dijkstra's algorithm is an algorithm for finding the shortest paths between nodes in a graph, which may represent, for example, road networks. It was conceived by computer scientist Edsger W. Dijkstra in 1956 and published three years later.\n",
    "\n",
    "## Algorithm Overview\n",
    "1. Assign a tentative distance value to every node: set it to zero for our initial node and to infinity for all other nodes.\n",
    "2. Set the initial node as current. Mark all other nodes as unvisited.\n",
    "3. For the current node, consider all of its unvisited neighbors and calculate their tentative distances through the current node. Compare the newly calculated tentative distance to the current assigned value and assign the smaller one.\n",
    "4. When we are done considering all of the unvisited neighbors of the current node, mark the current node as visited. A visited node will never be checked again.\n",
    "5. If the destination node has been marked visited (when planning a route between two specific nodes) or if all nodes have been marked visited (when planning a complete traversal), then stop. Otherwise, select the unvisited node that is marked with the smallest tentative distance, set it as the new current node, and go back to step 3.\n",
    "\n",
    "## Implementation\n",
    "\n",
    "### Step 1: Define the Graph\n",
    "We will represent the graph as a dictionary where the keys are the nodes and the values are dictionaries of neighboring nodes and the edge weights.\n"
   ]
  },
  {
   "cell_type": "code",
   "execution_count": 3,
   "id": "f1ae7d0e",
   "metadata": {},
   "outputs": [],
   "source": [
    "graph = {\n",
    "    'A': {'B': 1, 'C': 4},\n",
    "    'B': {'A': 1, 'C': 2, 'D': 5},\n",
    "    'C': {'A': 4, 'B': 2, 'D': 1},\n",
    "    'D': {'B': 5, 'C': 1}\n",
    "}"
   ]
  },
  {
   "cell_type": "code",
   "execution_count": 4,
   "id": "45482a71",
   "metadata": {},
   "outputs": [],
   "source": [
    "# Find the node with the smallest distance that hasn't been visited yet\n",
    "def findSmallestDistanceNode(graph,visited,distances):\n",
    "    current_node = None\n",
    "    current_distance = float('infinity')\n",
    "    for node in graph:\n",
    "        if node not in visited and distances[node] < current_distance:\n",
    "            current_node = node\n",
    "            current_distance = distances[node]\n",
    "    return current_node"
   ]
  },
  {
   "cell_type": "code",
   "execution_count": 5,
   "id": "8401a663",
   "metadata": {},
   "outputs": [],
   "source": [
    "def dijkstra(graph, start):\n",
    "    # Initialize distances with infinity\n",
    "    distances = {node: float('infinity') for node in graph}\n",
    "    distances[start] = 0\n",
    "\n",
    "    # Initialize a set to keep track of visited nodes\n",
    "    visited = set()\n",
    "\n",
    "    while len(visited) < len(graph):\n",
    "        # Find the node with the smallest distance that hasn't been visited yet\n",
    "        current_node = findSmallestDistanceNode(graph,visited,distances)\n",
    "\n",
    "        if current_node is None:\n",
    "            break\n",
    "\n",
    "        # Mark the current node as visited\n",
    "        visited.add(current_node)\n",
    "\n",
    "        # Update the distances to the neighbors of the current node\n",
    "        for neighbor, weight in graph[current_node].items():\n",
    "            distance = distances[current_node] + weight\n",
    "            if distance < distances[neighbor]:\n",
    "                distances[neighbor] = distance\n",
    "\n",
    "    return distances"
   ]
  },
  {
   "cell_type": "code",
   "execution_count": 6,
   "id": "dd81c00e",
   "metadata": {},
   "outputs": [
    {
     "name": "stdout",
     "output_type": "stream",
     "text": [
      "Shortest distances from node A:\n",
      "To node A: 0\n",
      "To node B: 1\n",
      "To node C: 3\n",
      "To node D: 4\n"
     ]
    }
   ],
   "source": [
    "start_node = 'A'\n",
    "shortest_distances = dijkstra(graph, start_node)\n",
    "\n",
    "print(f\"Shortest distances from node {start_node}:\")\n",
    "for node, distance in shortest_distances.items():\n",
    "    print(f\"To node {node}: {distance}\")"
   ]
  },
  {
   "cell_type": "markdown",
   "id": "50a45315",
   "metadata": {},
   "source": [
    "## Explanation\n",
    "\n",
    "1. Graph Representation: The graph is represented as a dictionary where each key is a node, and the value is another dictionary representing the neighboring nodes and the edge weights.\n",
    "2. Initialization: We initialize the distances dictionary with infinity for all nodes except the start node, which is set to 0.\n",
    "3. Visited Set: We use a set to keep track of visited nodes to avoid revisiting them.\n",
    "4. Current Node Selection: In each iteration, we select the node with the smallest distance that hasn't been visited yet.\n",
    "5. Distance Update: For each neighbor of the current node, we update the distance if a shorter path is found through the current node.\n",
    "6. Termination: The algorithm terminates when all nodes have been visited or when there are no more nodes to visit.\n"
   ]
  },
  {
   "cell_type": "code",
   "execution_count": null,
   "id": "889f9212",
   "metadata": {},
   "outputs": [],
   "source": []
  }
 ],
 "metadata": {
  "kernelspec": {
   "display_name": "Python 3 (ipykernel)",
   "language": "python",
   "name": "python3"
  },
  "language_info": {
   "codemirror_mode": {
    "name": "ipython",
    "version": 3
   },
   "file_extension": ".py",
   "mimetype": "text/x-python",
   "name": "python",
   "nbconvert_exporter": "python",
   "pygments_lexer": "ipython3",
   "version": "3.7.7"
  }
 },
 "nbformat": 4,
 "nbformat_minor": 5
}
